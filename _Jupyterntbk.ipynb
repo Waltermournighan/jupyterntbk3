{
 "cells": [
  {
   "cell_type": "markdown",
   "id": "7c4aa2b6-b0c5-47b1-98e1-fe82eebd8237",
   "metadata": {},
   "source": [
    "# H1 My Jupyter Notebook on IBM Watson Studio"
   ]
  },
  {
   "cell_type": "markdown",
   "id": "f4939ba9-4b6d-4d0c-8025-06f55f4ccfab",
   "metadata": {
    "tags": []
   },
   "source": [
    "**Walter Mournighan**\n",
    "Retired but looking for Data Science position."
   ]
  },
  {
   "cell_type": "markdown",
   "id": "b1ee18ca-c349-49e9-be6a-ad1e3dfb36ae",
   "metadata": {},
   "source": [
    "*I seek a position in Data Science that will be applied to the biological sciences.  Public health or decision support could be possibilities.*"
   ]
  },
  {
   "cell_type": "markdown",
   "id": "97cbe118-0f39-42a8-80a8-f08c0e603bda",
   "metadata": {},
   "source": [
    "# H3 The code below is for printing text, numbers and simple addition."
   ]
  },
  {
   "cell_type": "code",
   "execution_count": null,
   "id": "ff0fd2ec-bd97-4263-9db9-5795a92657bb",
   "metadata": {},
   "outputs": [],
   "source": [
    "print(Hello, world)\n",
    "print(5)\n",
    "5+2\n",
    "a=5\n",
    "b=2\n",
    "a+b\n",
    "\n"
   ]
  },
  {
   "cell_type": "code",
   "execution_count": null,
   "id": "c173b9d7-3bfd-495f-b5a1-4540660f966a",
   "metadata": {},
   "outputs": [],
   "source": [
    "1. ~~anotherassignment~~\n",
    "\n",
    "2. List of normal oropharngeal flora\n",
    "  1. Coagulase negative Staphylococcus spp.\n",
    "  2. Streptococcus viridans\n",
    "  * Streptococcus pneumoniae\n",
    "  --Haemophilus influenzae\n",
    "  \n",
    "3.[This is an inline style link](https:www.google.com)\n",
    "  or [https://www.google.com]\n",
    "  \n",
    " "
   ]
  }
 ],
 "metadata": {
  "kernelspec": {
   "display_name": "Python",
   "language": "python",
   "name": "conda-env-python-py"
  },
  "language_info": {
   "codemirror_mode": {
    "name": "ipython",
    "version": 3
   },
   "file_extension": ".py",
   "mimetype": "text/x-python",
   "name": "python",
   "nbconvert_exporter": "python",
   "pygments_lexer": "ipython3",
   "version": "3.7.12"
  }
 },
 "nbformat": 4,
 "nbformat_minor": 5
}
